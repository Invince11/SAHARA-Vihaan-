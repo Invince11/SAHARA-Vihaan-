{
 "cells": [
  {
   "cell_type": "code",
   "execution_count": 26,
   "metadata": {
    "collapsed": true
   },
   "outputs": [],
   "source": [
    "import cv2\n",
    "import numpy as np\n",
    "import sys\n",
    "import os.path\n",
    "from PIL import Image"
   ]
  },
  {
   "cell_type": "code",
   "execution_count": 27,
   "metadata": {},
   "outputs": [],
   "source": [
    "orig_img = cv2.imread('download.png')"
   ]
  },
  {
   "cell_type": "code",
   "execution_count": 28,
   "metadata": {
    "collapsed": true
   },
   "outputs": [],
   "source": [
    "img = cv2.copyMakeBorder(orig_img, 50, 50 ,50 ,50 ,cv2.BORDER_CONSTANT)"
   ]
  },
  {
   "cell_type": "code",
   "execution_count": 29,
   "metadata": {
    "collapsed": true
   },
   "outputs": [],
   "source": [
    "img_y = len(img)\n",
    "img_x = len(img[0])"
   ]
  },
  {
   "cell_type": "code",
   "execution_count": 30,
   "metadata": {},
   "outputs": [
    {
     "name": "stdout",
     "output_type": "stream",
     "text": [
      "Dimensions of image: 279 x 382\n"
     ]
    }
   ],
   "source": [
    "print(\"Dimensions of image: \"+ str(len(img)) +\" x \" + str(len(img[0])))"
   ]
  },
  {
   "cell_type": "code",
   "execution_count": 31,
   "metadata": {
    "collapsed": true
   },
   "outputs": [],
   "source": [
    "# blue, green, red = cv2.split(img)"
   ]
  },
  {
   "cell_type": "code",
   "execution_count": 32,
   "metadata": {
    "collapsed": true
   },
   "outputs": [],
   "source": [
    "# # Run canny edge detection on each channel\n",
    "# blue_edges = cv2.Canny(blue, 200, 250)\n",
    "# green_edges = cv2.Canny(green, 200, 250)\n",
    "# red_edges = cv2.Canny(red, 200, 250)"
   ]
  },
  {
   "cell_type": "code",
   "execution_count": null,
   "metadata": {
    "collapsed": true
   },
   "outputs": [],
   "source": []
  },
  {
   "cell_type": "code",
   "execution_count": 33,
   "metadata": {
    "collapsed": true
   },
   "outputs": [],
   "source": [
    "# Join edges back into image\n",
    "# edges = blue_edges | green_edges | red_edges"
   ]
  },
  {
   "cell_type": "code",
   "execution_count": null,
   "metadata": {
    "collapsed": true
   },
   "outputs": [],
   "source": []
  },
  {
   "cell_type": "code",
   "execution_count": 34,
   "metadata": {
    "collapsed": true
   },
   "outputs": [],
   "source": [
    "edges = cv2.Canny(img, 200, 250)"
   ]
  },
  {
   "cell_type": "code",
   "execution_count": 35,
   "metadata": {
    "collapsed": true
   },
   "outputs": [],
   "source": [
    "_, contours, hierarchy = cv2.findContours(edges.copy(), cv2.RETR_TREE, cv2.CHAIN_APPROX_NONE)"
   ]
  },
  {
   "cell_type": "code",
   "execution_count": 36,
   "metadata": {},
   "outputs": [
    {
     "data": {
      "text/plain": [
       "(265, 4)"
      ]
     },
     "execution_count": 36,
     "metadata": {},
     "output_type": "execute_result"
    }
   ],
   "source": [
    "hierarchy[0].shape"
   ]
  },
  {
   "cell_type": "code",
   "execution_count": 37,
   "metadata": {
    "collapsed": true
   },
   "outputs": [],
   "source": [
    "processed = edges.copy()\n",
    "rejected = edges.copy()"
   ]
  },
  {
   "cell_type": "code",
   "execution_count": 38,
   "metadata": {
    "collapsed": true
   },
   "outputs": [],
   "source": [
    "def ii(xx, yy):\n",
    "    global img, img_y, img_x\n",
    "    if yy >= img_y or xx >= img_x:\n",
    "        #print \"pixel out of bounds (\"+str(y)+\",\"+str(x)+\")\"\n",
    "        return 0\n",
    "    pixel = img[yy][xx]\n",
    "    return 0.30 * pixel[2] + 0.59 * pixel[1] + 0.11 * pixel[0]"
   ]
  },
  {
   "cell_type": "code",
   "execution_count": 39,
   "metadata": {
    "collapsed": true
   },
   "outputs": [],
   "source": [
    "def keep_box(contour):\n",
    "    xx, yy, w_, h_ = cv2.boundingRect(contour)\n",
    "\n",
    "    # width and height need to be floats\n",
    "    w_ *= 1.0\n",
    "    h_ *= 1.0\n",
    "\n",
    "    # Test it's shape - if it's too oblong or tall it's probably not a real character\n",
    "    if w_ / h_ < 0.1 or w_ / h_ > 10:\n",
    "        return False\n",
    "    \n",
    "    # check size of the box\n",
    "    if ((w_ * h_) > ((img_x * img_y) / 5)) or ((w_ * h_) < 15):\n",
    "        return False\n",
    "\n",
    "    return True\n"
   ]
  },
  {
   "cell_type": "code",
   "execution_count": 40,
   "metadata": {
    "collapsed": true
   },
   "outputs": [],
   "source": [
    "def connected(contour):\n",
    "    first = contour[0][0]\n",
    "    last = contour[len(contour) - 1][0]\n",
    "    return abs(first[0] - last[0]) <= 1 and abs(first[1] - last[1]) <= 1\n"
   ]
  },
  {
   "cell_type": "code",
   "execution_count": 41,
   "metadata": {
    "collapsed": true
   },
   "outputs": [],
   "source": [
    "def keep(contour):\n",
    "    return keep_box(contour) and connected(contour)"
   ]
  },
  {
   "cell_type": "code",
   "execution_count": 55,
   "metadata": {
    "collapsed": true
   },
   "outputs": [],
   "source": [
    "def get_parent(index, h_):\n",
    "    parent = h_[index][1]\n",
    "    while not keep(c(parent)) and parent > 0:\n",
    "        parent = h_[parent][1]\n",
    "\n",
    "    return parent\n"
   ]
  },
  {
   "cell_type": "code",
   "execution_count": 51,
   "metadata": {
    "collapsed": true
   },
   "outputs": [],
   "source": [
    "def is_child(index, h_):\n",
    "    return get_parent(index, h_) > 0\n"
   ]
  },
  {
   "cell_type": "code",
   "execution_count": 52,
   "metadata": {
    "collapsed": true
   },
   "outputs": [],
   "source": [
    "def c(index):\n",
    "    global contours\n",
    "    return contours[index]"
   ]
  },
  {
   "cell_type": "code",
   "execution_count": null,
   "metadata": {
    "collapsed": true
   },
   "outputs": [],
   "source": []
  },
  {
   "cell_type": "code",
   "execution_count": 45,
   "metadata": {
    "collapsed": true
   },
   "outputs": [],
   "source": [
    "def include_box(index, h_, contour):\n",
    "    print (str(index) + \":\")\n",
    "    if is_child(index, h_):\n",
    "            print (\"\\tIs a child\")\n",
    "            print (\"\\tparent \" + str(get_parent(index, h_)) + \" has \" + str(\n",
    "                count_children(get_parent(index, h_), h_, contour)) + \" children\")\n",
    "            print( \"\\thas \" + str(count_children(index, h_, contour)) + \" children\")\n",
    "\n",
    "    \n",
    "  \n",
    "        \n",
    "    if is_child(index, h_) and count_children(get_parent(index, h_), h_, contour) <= 2:\n",
    "        return False\n",
    "\n",
    "    if count_children(index, h_, contour) > 2:\n",
    "        return False\n",
    "\n",
    " \n",
    "    return True\n"
   ]
  },
  {
   "cell_type": "code",
   "execution_count": 46,
   "metadata": {
    "collapsed": true
   },
   "outputs": [],
   "source": [
    "def count_children(index, h_, contour):\n",
    "    # No children\n",
    "    if h_[index][2] < 0:\n",
    "        return 0\n",
    "    else:\n",
    "        #If the first child is a contour we care about\n",
    "        # then count it, otherwise don't\n",
    "        if keep(c(h_[index][2])):\n",
    "            count = 1\n",
    "        else:\n",
    "            count = 0\n",
    "\n",
    "            # Also count all of the child's siblings and their children\n",
    "        count += count_siblings(h_[index][2], h_, contour, True)\n",
    "        return count\n",
    "\n",
    "\n",
    "# Quick check to test if the contour is a child\n",
    "def is_child(index, h_):\n",
    "    return get_parent(index, h_) > 0\n",
    "\n",
    "\n",
    "# Get the first parent of the contour that we care about\n",
    "def get_parent(index, h_):\n",
    "    parent = h_[index][3]\n",
    "    while not keep(c(parent)) and parent > 0:\n",
    "        parent = h_[parent][3]\n",
    "\n",
    "    return parent\n",
    "\n",
    "\n",
    "\n"
   ]
  },
  {
   "cell_type": "code",
   "execution_count": 47,
   "metadata": {
    "collapsed": true
   },
   "outputs": [],
   "source": [
    "# Count the number of relevant siblings of a contour\n",
    "def count_siblings(index, h_, contour, inc_children=False):\n",
    "    # Include the children if necessary\n",
    "    if inc_children:\n",
    "        count = count_children(index, h_, contour)\n",
    "    else:\n",
    "        count = 0\n",
    "\n",
    "    # Look ahead\n",
    "    p_ = h_[index][0]\n",
    "    while p_ > 0:\n",
    "        if keep(c(p_)):\n",
    "            count += 1\n",
    "        if inc_children:\n",
    "            count += count_children(p_, h_, contour)\n",
    "        p_ = h_[p_][0]\n",
    "\n",
    "    # Look behind\n",
    "    n = h_[index][1]\n",
    "    while n > 0:\n",
    "        if keep(c(n)):\n",
    "            count += 1\n",
    "        if inc_children:\n",
    "            count += count_children(n, h_, contour)\n",
    "        n = h_[n][1]\n",
    "    return count"
   ]
  },
  {
   "cell_type": "code",
   "execution_count": null,
   "metadata": {
    "collapsed": true
   },
   "outputs": [],
   "source": []
  },
  {
   "cell_type": "code",
   "execution_count": 48,
   "metadata": {
    "collapsed": true
   },
   "outputs": [],
   "source": [
    "# These are the boxes that we are determining\n",
    "keepers = []"
   ]
  },
  {
   "cell_type": "code",
   "execution_count": 56,
   "metadata": {},
   "outputs": [
    {
     "name": "stdout",
     "output_type": "stream",
     "text": [
      "4:\n"
     ]
    },
    {
     "ename": "IndexError",
     "evalue": "index 4 is out of bounds for axis 0 with size 1",
     "output_type": "error",
     "traceback": [
      "\u001b[1;31m---------------------------------------------------------------------------\u001b[0m",
      "\u001b[1;31mIndexError\u001b[0m                                Traceback (most recent call last)",
      "\u001b[1;32m<ipython-input-56-47dc306ca737>\u001b[0m in \u001b[0;36m<module>\u001b[1;34m()\u001b[0m\n\u001b[0;32m      4\u001b[0m \u001b[1;33m\u001b[0m\u001b[0m\n\u001b[0;32m      5\u001b[0m     \u001b[1;31m# Check the contour and it's bounding box\u001b[0m\u001b[1;33m\u001b[0m\u001b[1;33m\u001b[0m\u001b[0m\n\u001b[1;32m----> 6\u001b[1;33m     \u001b[1;32mif\u001b[0m \u001b[0mkeep\u001b[0m\u001b[1;33m(\u001b[0m\u001b[0mcontour_\u001b[0m\u001b[1;33m)\u001b[0m \u001b[1;32mand\u001b[0m \u001b[0minclude_box\u001b[0m\u001b[1;33m(\u001b[0m\u001b[0mindex_\u001b[0m\u001b[1;33m,\u001b[0m \u001b[0mhierarchy\u001b[0m\u001b[1;33m,\u001b[0m \u001b[0mcontour_\u001b[0m\u001b[1;33m)\u001b[0m\u001b[1;33m:\u001b[0m\u001b[1;33m\u001b[0m\u001b[0m\n\u001b[0m\u001b[0;32m      7\u001b[0m         \u001b[0mkeepers\u001b[0m\u001b[1;33m.\u001b[0m\u001b[0mappend\u001b[0m\u001b[1;33m(\u001b[0m\u001b[1;33m[\u001b[0m\u001b[0mcontour_\u001b[0m\u001b[1;33m,\u001b[0m \u001b[1;33m[\u001b[0m\u001b[0mx\u001b[0m\u001b[1;33m,\u001b[0m \u001b[0my\u001b[0m\u001b[1;33m,\u001b[0m \u001b[0mw\u001b[0m\u001b[1;33m,\u001b[0m \u001b[0mh\u001b[0m\u001b[1;33m]\u001b[0m\u001b[1;33m]\u001b[0m\u001b[1;33m)\u001b[0m\u001b[1;33m\u001b[0m\u001b[0m\n\u001b[0;32m      8\u001b[0m \u001b[1;33m\u001b[0m\u001b[0m\n",
      "\u001b[1;32m<ipython-input-45-abcdac730129>\u001b[0m in \u001b[0;36minclude_box\u001b[1;34m(index, h_, contour)\u001b[0m\n\u001b[0;32m      1\u001b[0m \u001b[1;32mdef\u001b[0m \u001b[0minclude_box\u001b[0m\u001b[1;33m(\u001b[0m\u001b[0mindex\u001b[0m\u001b[1;33m,\u001b[0m \u001b[0mh_\u001b[0m\u001b[1;33m,\u001b[0m \u001b[0mcontour\u001b[0m\u001b[1;33m)\u001b[0m\u001b[1;33m:\u001b[0m\u001b[1;33m\u001b[0m\u001b[0m\n\u001b[0;32m      2\u001b[0m     \u001b[0mprint\u001b[0m \u001b[1;33m(\u001b[0m\u001b[0mstr\u001b[0m\u001b[1;33m(\u001b[0m\u001b[0mindex\u001b[0m\u001b[1;33m)\u001b[0m \u001b[1;33m+\u001b[0m \u001b[1;34m\":\"\u001b[0m\u001b[1;33m)\u001b[0m\u001b[1;33m\u001b[0m\u001b[0m\n\u001b[1;32m----> 3\u001b[1;33m     \u001b[1;32mif\u001b[0m \u001b[0mis_child\u001b[0m\u001b[1;33m(\u001b[0m\u001b[0mindex\u001b[0m\u001b[1;33m,\u001b[0m \u001b[0mh_\u001b[0m\u001b[1;33m)\u001b[0m\u001b[1;33m:\u001b[0m\u001b[1;33m\u001b[0m\u001b[0m\n\u001b[0m\u001b[0;32m      4\u001b[0m             \u001b[0mprint\u001b[0m \u001b[1;33m(\u001b[0m\u001b[1;34m\"\\tIs a child\"\u001b[0m\u001b[1;33m)\u001b[0m\u001b[1;33m\u001b[0m\u001b[0m\n\u001b[0;32m      5\u001b[0m             print (\"\\tparent \" + str(get_parent(index, h_)) + \" has \" + str(\n",
      "\u001b[1;32m<ipython-input-51-e5c14f0f6b36>\u001b[0m in \u001b[0;36mis_child\u001b[1;34m(index, h_)\u001b[0m\n\u001b[0;32m      1\u001b[0m \u001b[1;32mdef\u001b[0m \u001b[0mis_child\u001b[0m\u001b[1;33m(\u001b[0m\u001b[0mindex\u001b[0m\u001b[1;33m,\u001b[0m \u001b[0mh_\u001b[0m\u001b[1;33m)\u001b[0m\u001b[1;33m:\u001b[0m\u001b[1;33m\u001b[0m\u001b[0m\n\u001b[1;32m----> 2\u001b[1;33m     \u001b[1;32mreturn\u001b[0m \u001b[0mget_parent\u001b[0m\u001b[1;33m(\u001b[0m\u001b[0mindex\u001b[0m\u001b[1;33m,\u001b[0m \u001b[0mh_\u001b[0m\u001b[1;33m)\u001b[0m \u001b[1;33m>\u001b[0m \u001b[1;36m0\u001b[0m\u001b[1;33m\u001b[0m\u001b[0m\n\u001b[0m",
      "\u001b[1;32m<ipython-input-55-a72e46630596>\u001b[0m in \u001b[0;36mget_parent\u001b[1;34m(index, h_)\u001b[0m\n\u001b[0;32m      1\u001b[0m \u001b[1;32mdef\u001b[0m \u001b[0mget_parent\u001b[0m\u001b[1;33m(\u001b[0m\u001b[0mindex\u001b[0m\u001b[1;33m,\u001b[0m \u001b[0mh_\u001b[0m\u001b[1;33m)\u001b[0m\u001b[1;33m:\u001b[0m\u001b[1;33m\u001b[0m\u001b[0m\n\u001b[1;32m----> 2\u001b[1;33m     \u001b[0mparent\u001b[0m \u001b[1;33m=\u001b[0m \u001b[0mh_\u001b[0m\u001b[1;33m[\u001b[0m\u001b[0mindex\u001b[0m\u001b[1;33m]\u001b[0m\u001b[1;33m[\u001b[0m\u001b[1;36m1\u001b[0m\u001b[1;33m]\u001b[0m\u001b[1;33m\u001b[0m\u001b[0m\n\u001b[0m\u001b[0;32m      3\u001b[0m     \u001b[1;32mwhile\u001b[0m \u001b[1;32mnot\u001b[0m \u001b[0mkeep\u001b[0m\u001b[1;33m(\u001b[0m\u001b[0mc\u001b[0m\u001b[1;33m(\u001b[0m\u001b[0mparent\u001b[0m\u001b[1;33m)\u001b[0m\u001b[1;33m)\u001b[0m \u001b[1;32mand\u001b[0m \u001b[0mparent\u001b[0m \u001b[1;33m>\u001b[0m \u001b[1;36m0\u001b[0m\u001b[1;33m:\u001b[0m\u001b[1;33m\u001b[0m\u001b[0m\n\u001b[0;32m      4\u001b[0m         \u001b[0mparent\u001b[0m \u001b[1;33m=\u001b[0m \u001b[0mh_\u001b[0m\u001b[1;33m[\u001b[0m\u001b[0mparent\u001b[0m\u001b[1;33m]\u001b[0m\u001b[1;33m[\u001b[0m\u001b[1;36m1\u001b[0m\u001b[1;33m]\u001b[0m\u001b[1;33m\u001b[0m\u001b[0m\n\u001b[0;32m      5\u001b[0m \u001b[1;33m\u001b[0m\u001b[0m\n",
      "\u001b[1;31mIndexError\u001b[0m: index 4 is out of bounds for axis 0 with size 1"
     ]
    }
   ],
   "source": [
    "for index_, contour_ in enumerate(contours):\n",
    "   \n",
    "    x, y, w, h = cv2.boundingRect(contour_)\n",
    "\n",
    "    # Check the contour and it's bounding box\n",
    "    if keep(contour_) and include_box(index_, hierarchy, contour_):\n",
    "        keepers.append([contour_, [x, y, w, h]])\n",
    "        \n",
    "        cv2.rectangle(processed, (x, y), (x + w, y + h), (100, 100, 100), 1)\n",
    "        cv2.putText(processed, str(index_), (x, y - 5), cv2.FONT_HERSHEY_PLAIN, 1, (255, 255, 255))\n",
    "    \n",
    "    else:\n",
    "        cv2.rectangle(rejected, (x, y), (x + w, y + h), (100, 100, 100), 1)\n",
    "        cv2.putText(rejected, str(index_), (x, y - 5), cv2.FONT_HERSHEY_PLAIN, 1, (255, 255, 255))\n"
   ]
  },
  {
   "cell_type": "code",
   "execution_count": null,
   "metadata": {
    "collapsed": true
   },
   "outputs": [],
   "source": [
    "new_image = edges.copy()\n",
    "new_image.fill(255)\n",
    "boxes = []\n"
   ]
  },
  {
   "cell_type": "code",
   "execution_count": null,
   "metadata": {},
   "outputs": [],
   "source": [
    "for index_, (contour_, box) in enumerate(keepers):\n",
    "\n",
    "    # Find the average intensity of the edge pixels to\n",
    "    # determine the foreground intensity\n",
    "    fg_int = 0.0\n",
    "    for p in contour_:\n",
    "        fg_int += ii(p[0][0], p[0][1])\n",
    "\n",
    "    fg_int /= len(contour_)\n",
    "    \n",
    "    print (\"FG Intensity for #%d = %d\" % (index_, fg_int))\n",
    "\n",
    "    \n",
    "    x_, y_, width, height = box\n",
    "    bg_int = [# bottom left corner 3 pixels\n",
    "            ii(x_ - 1, y_ - 1),\n",
    "            ii(x_ - 1, y_),\n",
    "            ii(x_, y_ - 1),\n",
    "\n",
    "            # bottom right corner 3 pixels\n",
    "            ii(x_ + width + 1, y_ - 1),\n",
    "            ii(x_ + width, y_ - 1),\n",
    "            ii(x_ + width + 1, y_),\n",
    "\n",
    "            # top left corner 3 pixels\n",
    "            ii(x_ - 1, y_ + height + 1),\n",
    "            ii(x_ - 1, y_ + height),\n",
    "            ii(x_, y_ + height + 1),\n",
    "\n",
    "            # top right corner 3 pixels\n",
    "            ii(x_ + width + 1, y_ + height + 1),\n",
    "            ii(x_ + width, y_ + height + 1),\n",
    "            ii(x_ + width + 1, y_ + height)]        \n",
    "\n",
    "    # Find the median of the background\n",
    "    # pixels determined above\n",
    "    bg_int = np.median(bg_int)\n",
    "\n",
    "    print (\"BG Intensity for #%d = %s\" % (index_, repr(bg_int)))\n",
    "\n",
    "    # Determine if the box should be inverted\n",
    "    if fg_int >= bg_int:\n",
    "        fg = 255\n",
    "        bg = 0\n",
    "    else:\n",
    "        fg = 0\n",
    "        bg = 255\n",
    "\n",
    "        # Loop through every pixel in the box and color the\n",
    "        # pixel accordingly\n",
    "    for x in range(x_, x_ + width):\n",
    "        for y in range(y_, y_ + height):\n",
    "            \n",
    "            if y >= img_y or x >= img_x:                \n",
    "                continue\n",
    "                \n",
    "            if ii(x, y) > fg_int:\n",
    "                new_image[y][x] = bg\n",
    "                \n",
    "            else:\n",
    "                new_image[y][x] = fg\n",
    "\n",
    "# blur a bit to improve ocr accuracy\n",
    "new_image = cv2.blur(new_image, (2, 2))\n",
    "cv2.imwrite(output_file, new_image)\n",
    "\n",
    "cv2.imwrite('edges.png', edges)\n",
    "cv2.imwrite('processed.png', processed)\n",
    "cv2.imwrite('rejected.png', rejected)"
   ]
  },
  {
   "cell_type": "code",
   "execution_count": null,
   "metadata": {},
   "outputs": [],
   "source": [
    "import matplotlib.pyplot as plt\n",
    "random = new_image\n",
    "plt.imshow(random)\n",
    "plt.show()"
   ]
  },
  {
   "cell_type": "code",
   "execution_count": null,
   "metadata": {
    "collapsed": true
   },
   "outputs": [],
   "source": [
    "im = Image.fromarray(new_image)\n",
    "im.save('test.png')"
   ]
  },
  {
   "cell_type": "code",
   "execution_count": null,
   "metadata": {
    "collapsed": true
   },
   "outputs": [],
   "source": []
  },
  {
   "cell_type": "code",
   "execution_count": null,
   "metadata": {
    "collapsed": true
   },
   "outputs": [],
   "source": [
    "import pytesseract\n",
    "\n",
    "pytesseract.pytesseract.tesseract_cmd = 'C:/Program Files (x86)/Tesseract-OCR/tesseract'"
   ]
  },
  {
   "cell_type": "code",
   "execution_count": 30,
   "metadata": {},
   "outputs": [
    {
     "name": "stdout",
     "output_type": "stream",
     "text": [
      "4 WkiJre €99 Bread\n",
      "\n",
      "A good, basic white bread.\n",
      "\n",
      "with\n",
      "\n",
      "I. 21/2 cups lukewarm water\n",
      "2 packet; es dry yeast\n",
      "1/4 cup honey\n",
      "1 cup dry mil»\n",
      "2 eggs, beaten\n",
      "4 cups unbleached white ﬂour\n",
      "\n",
      "II. 4 teaspoons salt\n",
      "1/3 cup butter or margarine\n",
      "3 cups or more unbleached white ﬂour for forming the dough\n",
      "1 cup (approx.) white ﬂour for kneading\n",
      "\n",
      "Proceed with the directions for recipe #1, adding the beaten eggs afte\n",
      "stirring in the dry milk.\n",
      "\n",
      "ad\n",
      "\n",
      "is moister and chewier than the white e ;g bread.\n",
      "\n",
      "rid,\n",
      ". 1\" er\n",
      "ast\n",
      "J\n",
      "V -\n"
     ]
    }
   ],
   "source": [
    "result = pytesseract.image_to_string(Image.open(\"test.png\"))\n",
    "print(result)"
   ]
  }
 ],
 "metadata": {
  "kernelspec": {
   "display_name": "Python 3",
   "language": "python",
   "name": "python3"
  },
  "language_info": {
   "codemirror_mode": {
    "name": "ipython",
    "version": 3
   },
   "file_extension": ".py",
   "mimetype": "text/x-python",
   "name": "python",
   "nbconvert_exporter": "python",
   "pygments_lexer": "ipython3",
   "version": "3.6.1"
  }
 },
 "nbformat": 4,
 "nbformat_minor": 2
}
